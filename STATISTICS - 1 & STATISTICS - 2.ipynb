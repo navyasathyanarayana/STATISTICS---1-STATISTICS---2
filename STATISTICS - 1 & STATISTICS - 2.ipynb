{
 "cells": [
  {
   "cell_type": "markdown",
   "metadata": {},
   "source": [
    "# TASK1"
   ]
  },
  {
   "cell_type": "markdown",
   "metadata": {},
   "source": [
    "1.1.You survey households in your area to find the average rent they are paying. Find the\n",
    "standard deviation from the following data:\n",
    "$1550, $1700, $900, $850, $1000, $950."
   ]
  },
  {
   "cell_type": "code",
   "execution_count": 1,
   "metadata": {},
   "outputs": [
    {
     "name": "stdout",
     "output_type": "stream",
     "text": [
      "Average =1158.3333333333333\n",
      "Variance =135416.66666666666\n",
      "Standard Deviation =367.9900360969936\n"
     ]
    }
   ],
   "source": [
    "import statistics as stat\n",
    "arr=[1550, 1700, 900, 850, 1000, 950]\n",
    "print(\"Average =\" + str(stat.mean(arr)))\n",
    "print(\"Variance =\" + str(stat.variance(arr)))\n",
    "print(\"Standard Deviation =\" + str(stat.stdev(arr)))"
   ]
  },
  {
   "cell_type": "code",
   "execution_count": 2,
   "metadata": {},
   "outputs": [
    {
     "name": "stdout",
     "output_type": "stream",
     "text": [
      "Average =1158.3333333333333\n",
      "Variance =135416.6666666667\n",
      "Standard Deviation =367.99003609699366\n"
     ]
    }
   ],
   "source": [
    "def find_mean(arr):\n",
    "    mean_value=sum(arr)/len(arr)\n",
    "    return mean_value\n",
    "def find_variance(arr):\n",
    "    variance=0.0\n",
    "    from math import sqrt\n",
    "    mean=find_mean(arr)\n",
    "    variance=sum((x-mean)**2 for x in arr)/(len(arr)-1)\n",
    "    return variance\n",
    "def find_std_dev(arr):\n",
    "    return find_variance(arr)**0.5\n",
    "arr=[1550, 1700, 900, 850, 1000, 950]\n",
    "print(\"Average =\" + str(find_mean(arr)))\n",
    "print(\"Variance =\" + str(find_variance(arr)))\n",
    "print(\"Standard Deviation =\" + str(find_std_dev(arr)))"
   ]
  },
  {
   "cell_type": "markdown",
   "metadata": {},
   "source": [
    "1.2. Find the variance for the following set of data representing trees in California (heights in feet):\n",
    "3, 21, 98, 203, 17, 9"
   ]
  },
  {
   "cell_type": "code",
   "execution_count": 3,
   "metadata": {},
   "outputs": [
    {
     "name": "stdout",
     "output_type": "stream",
     "text": [
      "Average =58.5\n",
      "Variance =6219.9\n",
      "Standard Deviation =78.86634263106157\n"
     ]
    }
   ],
   "source": [
    "import statistics as stat\n",
    "arr=[3, 21, 98, 203, 17, 9]\n",
    "print(\"Average =\" + str(stat.mean(arr)))\n",
    "print(\"Variance =\" + str(stat.variance(arr)))\n",
    "print(\"Standard Deviation =\" + str(stat.stdev(arr)))"
   ]
  },
  {
   "cell_type": "markdown",
   "metadata": {},
   "source": [
    "1.3. In a class on 100 students, 80 students passed in all subjects, 10 failed in one subject, 7 failed\n",
    "in two subjects and 3 failed in three subjects. Find the probability distribution of the variable for\n",
    "number of subjects a student from the given class has failed in."
   ]
  },
  {
   "cell_type": "code",
   "execution_count": 4,
   "metadata": {},
   "outputs": [
    {
     "name": "stdout",
     "output_type": "stream",
     "text": [
      "0.8\n",
      "0.1\n",
      "0.07\n",
      "0.03\n"
     ]
    }
   ],
   "source": [
    "def event_probability(event_outcomes, sample_space):\n",
    "    probability = (event_outcomes / sample_space) \n",
    "    return round(probability, 2)\n",
    "students = 100\n",
    "# The probability of failing in 0 subjects\n",
    "students_passed=80\n",
    "students_passed_probability = event_probability(students_passed, students)\n",
    "\n",
    "# The probability of failing in 1 subjects\n",
    "subject_1failed = 10\n",
    "subject_1failed_probability = event_probability(subject_1failed, students)\n",
    "\n",
    "# The probability of failing in 2 subjects\n",
    "subject_2failed = 7\n",
    "subject_2failed_probability = event_probability(subject_2failed, students)\n",
    "\n",
    "# The probability of failing in 3 subjects\n",
    "subject_3failed = 3\n",
    "subject_3failed_probability = event_probability(subject_3failed, students)\n",
    "\n",
    "# Print each probability\n",
    "print(students_passed_probability)\n",
    "print(subject_1failed_probability)\n",
    "print(subject_2failed_probability)\n",
    "print(subject_3failed_probability)"
   ]
  },
  {
   "cell_type": "markdown",
   "metadata": {},
   "source": [
    "# TASK2"
   ]
  },
  {
   "cell_type": "markdown",
   "metadata": {},
   "source": [
    "2.1. A test is conducted which is consisting of 20 MCQs (multiple choices questions) with every\n",
    "MCQ having its four options out of which only one is correct. Determine the probability that a\n",
    "person undertaking that test has answered exactly 5 questions wrong."
   ]
  },
  {
   "cell_type": "code",
   "execution_count": 5,
   "metadata": {},
   "outputs": [
    {
     "name": "stdout",
     "output_type": "stream",
     "text": [
      "0.0000034\n"
     ]
    }
   ],
   "source": [
    "from scipy.stats import binom\n",
    "n = 20\n",
    "p = 0.25\n",
    "k = 15\n",
    "loc = 0\n",
    "s = binom.pmf(k, n, p, loc) \n",
    "print('%.7f' % s)"
   ]
  },
  {
   "cell_type": "markdown",
   "metadata": {},
   "source": [
    "2.2. A die marked A to E is rolled 50 times. Find the probability of getting a “D” exactly 5 times."
   ]
  },
  {
   "cell_type": "code",
   "execution_count": 6,
   "metadata": {},
   "outputs": [
    {
     "name": "stdout",
     "output_type": "stream",
     "text": [
      "probability of getting a D is  0.2\n",
      "probability of not getting D is 0.8\n"
     ]
    }
   ],
   "source": [
    "from scipy.stats import binom\n",
    "n=50 \n",
    "k=5\n",
    "#The probability of getting A in any given throw is 1/5\")\n",
    "#The probability of getting B in any given throw is 1/5\")\n",
    "#The probability of getting C in any given throw is 1/5\")\n",
    "#The probability of getting D in any given throw is 1/5\")\n",
    "#The probability of getting E in any given throw is 1/5\")\n",
    "p=1/5\n",
    "print(\"probability of getting a D is \" ,p)\n",
    "print(\"probability of not getting D is\" , 1-p)"
   ]
  },
  {
   "cell_type": "markdown",
   "metadata": {},
   "source": [
    "2.3. Two balls are drawn at random in succession without replacement from an urn containing 4\n",
    "red balls and 6 black balls.\n",
    "Find the probabilities of all the possible outcomes."
   ]
  },
  {
   "cell_type": "code",
   "execution_count": 7,
   "metadata": {},
   "outputs": [
    {
     "name": "stdout",
     "output_type": "stream",
     "text": [
      "0.4\n",
      "0.6\n"
     ]
    }
   ],
   "source": [
    "def event_probability(event_outcomes, sample_space):\n",
    "    probability = (event_outcomes / sample_space) \n",
    "    return round(probability, 2)\n",
    "Total_outcomes = 10\n",
    "# The probability of getting red ball\n",
    "red_ball=4\n",
    "red_ball_probability = event_probability(red_ball, Total_outcomes)\n",
    "\n",
    "# The probability of getting black ball\n",
    "black_ball = 6\n",
    "black_ball_probability = event_probability(black_ball, Total_outcomes)\n",
    "\n",
    "print(red_ball_probability)\n",
    "print(black_ball_probability)"
   ]
  }
 ],
 "metadata": {
  "kernelspec": {
   "display_name": "Python 3",
   "language": "python",
   "name": "python3"
  },
  "language_info": {
   "codemirror_mode": {
    "name": "ipython",
    "version": 3
   },
   "file_extension": ".py",
   "mimetype": "text/x-python",
   "name": "python",
   "nbconvert_exporter": "python",
   "pygments_lexer": "ipython3",
   "version": "3.6.4"
  }
 },
 "nbformat": 4,
 "nbformat_minor": 2
}
